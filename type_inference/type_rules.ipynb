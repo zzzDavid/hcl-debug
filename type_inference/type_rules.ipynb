{
 "cells": [
  {
   "cell_type": "markdown",
   "metadata": {},
   "source": [
    "## HeteroCL Main Branch Typing Rules\n",
    "### Add Sub\n",
    "To lay down the typing rules systematically, we consider the product of five types:\n",
    "(Int, UInt, Fixed, UFixed, Float) x (Int, UInt, Fixed, UFixed, Float).\n",
    "So there should be in total 25 rules. Some operations are commutative, so some rules can be combined."
   ]
  },
  {
   "cell_type": "code",
   "execution_count": 2,
   "metadata": {},
   "outputs": [
    {
     "name": "stdout",
     "output_type": "stream",
     "text": [
      "// attr [_top] storage_scope = \"global\"\n",
      "allocate _top[int32 * 1]\n",
      "produce _top {\n",
      "  // attr [0] extern_scope = 0\n",
      "  // attr [ufixed_ufixed] storage_scope = \"global\"\n",
      "  allocate ufixed_ufixed[int32 * 1]\n",
      "  produce ufixed_ufixed {\n",
      "    // attr [0] extern_scope = 0\n",
      "    for \"stage_name\"=\"ufixed_ufixed\" (x, 0, 1) {\n",
      "      ufixed_ufixed[x] = int32((ufixed34_4(D[x]) + ufixed34_4(E[x])))\n",
      "    }\n",
      "  }\n",
      "}\n",
      "\n"
     ]
    }
   ],
   "source": [
    "import heterocl as hcl\n",
    "\n",
    "def add(A, B, C, D, E):\n",
    "    hcl.compute((1,), lambda x : D[x] + E[x], name=\"ufixed_ufixed\")\n",
    "\n",
    "A = hcl.placeholder((1,), \"A\", dtype=hcl.Int(32))\n",
    "B = hcl.placeholder((1,), \"B\", dtype=hcl.UInt(31))\n",
    "C = hcl.placeholder((1,), \"C\", dtype=hcl.Float(32))\n",
    "D = hcl.placeholder((1,), \"D\", dtype=hcl.UFixed(32, 4))\n",
    "E = hcl.placeholder((1,), \"E\", dtype=hcl.UFixed(31, 2))\n",
    "s = hcl.create_schedule([A, B, C, D, E], add)\n",
    "print(hcl.lower(s))"
   ]
  },
  {
   "cell_type": "markdown",
   "metadata": {},
   "source": [
    "Add Sub rules are commutative.\n",
    "\n",
    "#### Int x (Int, UInt, Fixed, UFixed, Float)\n",
    "```\n",
    "int(b1) + int(b2) -> int(max(b1, b2) + 1)\n",
    "int(b1) + uint(b2) -> int(max(b1, b2 + 1) + 1)\n",
    "int(b1) + fixed(b2, f2) -> fixed(max(b1, b2-f2) + 1 + f2, f2)\n",
    "int(b1) + ufixed(b2, f2) -> fixed(max(b1, b2+1-f2) + 1 + f2, f2)\n",
    "int(b1) + float -> float\n",
    "```\n",
    "#### UInt x (Int, UInt, Fixed, UFixed, Float)\n",
    "```\n",
    "uint(b1) + int(b2) covered\n",
    "uint(b1) + uint(b2) -> uint(max(b1, b2) + 1)\n",
    "uint(b1) + fixed(b2, f2) -> fixed(max(b1+1, b2-f2) + 1 + f2, f2)\n",
    "uint(b1) + ufixed(b2, f2) -> ufixed(max(b1, b2-f2) + 1 + f2, f2)\n",
    "uint(b1) + float -> float\n",
    "```\n",
    "#### Fixed x (Int, UInt, Fixed, UFixed, Float)\n",
    "```\n",
    "fixed(b1, f1) + Int covered\n",
    "fixed(b1, f1) + UInt covered\n",
    "fixed(b1, f1) + fixed(b2, f2) -> fixed(max(b1-f1, b2-f2) + 1 + max(f1, f2), max(f1, f2))\n",
    "fixed(b1, f1) + ufixed(b2, f2) -> fixed(max(b1-f1, b2+1-f2) + 1 + max(f1, f2), max(f1, f2))\n",
    "fixed(b1, f1) + float -> float\n",
    "````\n",
    "#### UFixed x (Int, UInt, Fixed, UFixed, Float)\n",
    "```\n",
    "ufixed + int covered\n",
    "ufixed + uint covered\n",
    "ufixed + fixed covered\n",
    "ufixed(b1, f1) + ufixed(b2, f2) -> ufixed(max(b1-f1, b2-f2) + 1 + max(f1, f2), max(f1, f2))\n",
    "ufixed + float -> float\n",
    "```\n",
    "#### Float x (Int, UInt, Fixed, UFixed, Float)\n",
    "```\n",
    "all covered\n",
    "```"
   ]
  },
  {
   "cell_type": "markdown",
   "metadata": {},
   "source": [
    "### Mul"
   ]
  },
  {
   "cell_type": "code",
   "execution_count": 15,
   "metadata": {},
   "outputs": [
    {
     "name": "stdout",
     "output_type": "stream",
     "text": [
      "// attr [_top] storage_scope = \"global\"\n",
      "allocate _top[int32 * 1]\n",
      "produce _top {\n",
      "  // attr [0] extern_scope = 0\n",
      "  // attr [fixed_ufixed] storage_scope = \"global\"\n",
      "  allocate fixed_ufixed[int32 * 1]\n",
      "  produce fixed_ufixed {\n",
      "    // attr [0] extern_scope = 0\n",
      "    for \"stage_name\"=\"fixed_ufixed\" (x, 0, 1) {\n",
      "      fixed_ufixed[x] = int32((fixed51_4(D[x])*fixed51_8(D_wider[x])))\n",
      "    }\n",
      "  }\n",
      "}\n",
      "\n"
     ]
    }
   ],
   "source": [
    "import heterocl as hcl\n",
    "\n",
    "def mul(A, B, C, D,D_wider, E):\n",
    "    # hcl.compute((1,), lambda x : A[x] * A[x], name=\"int_int\")\n",
    "    # hcl.compute((1,), lambda x : A[x] * B[x], name=\"int_uint\")\n",
    "    # hcl.compute((1,), lambda x : B[x] * B[x], name=\"uint_uint\")\n",
    "    # hcl.compute((1,), lambda x : A[x] * D[x], name=\"int_fixed\")\n",
    "    # hcl.compute((1,), lambda x : A[x] * E[x], name=\"int_ufixed\")\n",
    "    # hcl.compute((1,), lambda x : B[x] * D[x], name=\"uint_fixed\")\n",
    "    # hcl.compute((1,), lambda x : B[x] * E[x], name=\"uint_ufixed\")\n",
    "    hcl.compute((1,), lambda x : D[x] * D_wider[x], name=\"fixed_ufixed\")\n",
    "\n",
    "A = hcl.placeholder((1,), \"A\", dtype=hcl.Int(32))\n",
    "B = hcl.placeholder((1,), \"B\", dtype=hcl.UInt(31))\n",
    "C = hcl.placeholder((1,), \"C\", dtype=hcl.Float(32))\n",
    "D = hcl.placeholder((1,), \"D\", dtype=hcl.Fixed(31, 4))\n",
    "D_wider = hcl.placeholder((1,), \"D_wider\", dtype=hcl.Fixed(20, 8))\n",
    "E = hcl.placeholder((1,), \"E\", dtype=hcl.UFixed(31, 2))\n",
    "s = hcl.create_schedule([A, B, C, D, D_wider, E], mul)\n",
    "print(hcl.lower(s))"
   ]
  },
  {
   "cell_type": "markdown",
   "metadata": {},
   "source": [
    "Mul rules are commutative.\n",
    "#### Int x (Int, UInt, Fixed, UFixed, Float)\n",
    "```\n",
    "int(b1) * int(b2) -> int(b1 + b2)\n",
    "int(b1) * uint(b2) -> int(b1 + b2)\n",
    "int(b1) * fixed(b2, f2) -> fixed(b1 + b2, f2)\n",
    "int(b1) * ufixed(b2, f2) -> fixed(b1 + b2, f2)\n",
    "int(b1) * float -> float\n",
    "```\n",
    "#### UInt x (Int, UInt, Fixed, UFixed, Float)\n",
    "```\n",
    "uint(b1) * int(b2) covered\n",
    "uint(b1) * uint(b2) -> uint(b1 + b2)\n",
    "uint(b1) * fixed(b2, f2) -> fixed(b1 + b2, f2)\n",
    "uint(b1) * ufixed(b2, f2) -> ufixed(b1 + b2, f2)\n",
    "uint(b1) * float -> float\n",
    "```\n",
    "#### Fixed x (Int, UInt, Fixed, UFixed, Float)\n",
    "```\n",
    "fixed(b1, f1) * int covered\n",
    "fixed(b1, f1) * uint covered\n",
    "fixed(b1, f1) * fixed(b2, f2) -> fixed(b1 + b2, f1 + f2)\n",
    "fixed(b1, f1) * ufixed(b2, f2) -> fixed(b1 + b2, f1 + f2)\n",
    "fixed(b1, f1) * float -> float\n",
    "````\n",
    "#### UFixed x (Int, UInt, Fixed, UFixed, Float)\n",
    "```\n",
    "ufixed * int covered\n",
    "ufixed * uint covered\n",
    "ufixed * fixed covered\n",
    "ufixed(b1, f1) * ufixed(b2, f2) -> ufixed(b1 + b2, f1 + f2)\n",
    "ufixed * float -> float\n",
    "```\n",
    "#### Float x (Int, UInt, Fixed, UFixed, Float)\n",
    "```\n",
    "all covered\n",
    "```"
   ]
  },
  {
   "cell_type": "markdown",
   "metadata": {},
   "source": [
    "### Div"
   ]
  },
  {
   "cell_type": "code",
   "execution_count": 21,
   "metadata": {},
   "outputs": [
    {
     "name": "stdout",
     "output_type": "stream",
     "text": [
      "// attr [_top] storage_scope = \"global\"\n",
      "allocate _top[int32 * 1]\n",
      "produce _top {\n",
      "  // attr [0] extern_scope = 0\n",
      "  // attr [ufixed_ufixed] storage_scope = \"global\"\n",
      "  allocate ufixed_ufixed[int32 * 1]\n",
      "  produce ufixed_ufixed {\n",
      "    // attr [0] extern_scope = 0\n",
      "    for \"stage_name\"=\"ufixed_ufixed\" (x, 0, 1) {\n",
      "      ufixed_ufixed[x] = int32((ufixed94_64(E[x])/ufixed94_64(E_wider[x])))\n",
      "    }\n",
      "  }\n",
      "}\n",
      "\n"
     ]
    }
   ],
   "source": [
    "import heterocl as hcl\n",
    "\n",
    "def div(A, A_wider, B, C, D, D_wider, E, E_wider):\n",
    "    hcl.compute((1,), lambda x : E[x] / E_wider[x], name=\"ufixed_ufixed\")\n",
    "\n",
    "A = hcl.placeholder((1,), \"A\", dtype=hcl.Int(3))\n",
    "A_wider = hcl.placeholder((1,), \"A_wider\", dtype=hcl.Int(38))\n",
    "B = hcl.placeholder((1,), \"B\", dtype=hcl.UInt(31))\n",
    "C = hcl.placeholder((1,), \"C\", dtype=hcl.Float(32))\n",
    "D = hcl.placeholder((1,), \"D\", dtype=hcl.Fixed(31, 4))\n",
    "D_wider = hcl.placeholder((1,), \"D_wider\", dtype=hcl.Fixed(63, 8))\n",
    "E = hcl.placeholder((1,), \"E\", dtype=hcl.UFixed(31, 9))\n",
    "E_wider = hcl.placeholder((1,), \"E_wider\", dtype=hcl.UFixed(63, 8))\n",
    "s = hcl.create_schedule([A, A_wider, B, C, D, D_wider, E, E_wider], div)\n",
    "print(hcl.lower(s))"
   ]
  },
  {
   "cell_type": "markdown",
   "metadata": {},
   "source": [
    "Div is not commutative.\n",
    "#### Int x (Int, UInt, Fixed, UFixed, Float)\n",
    "```\n",
    "int(b1) / int(b2) -> int(b1) // is this the right rule?\n",
    "int(b1) / uint(b2) -> int(b1)\n",
    "int(b1) / fixed(b2, f2) -> fixed(b1 + b2, b2 - f2) \n",
    "int(b1) / ufixed(b2, f2) -> fixed(b1 + b2 + 1, b2 - f2)\n",
    "int(b1) / float -> float\n",
    "```\n",
    "#### UInt x (Int, UInt, Fixed, UFixed, Float)\n",
    "```\n",
    "uint(b1) / int(b2) -> int(b1)\n",
    "uint(b1) / uint(b2) -> uint(b1)\n",
    "uint(b1) / fixed(b2, f2) -> fixed(b1 + b2, b2 - f2)\n",
    "uint(b1) / ufixed(b2, f2) -> ufixed(b1 + b2, b2 - f2)\n",
    "uint(b1) / float -> float\n",
    "```\n",
    "#### Fixed x (Int, UInt, Fixed, UFixed, Float)\n",
    "```\n",
    "fixed(b1, f1) / int(b2) -> fixed(b1 + b2, b2 + f1)\n",
    "fixed(b1, f1) / uint(b2) -> fixed(b1 + b2 + 1, b2 + f1)\n",
    "fixed(b1, f1) / fixed(b2, f2) -> fixed(b1 + b2, b2 - f2 + f1)\n",
    "fixed(b1, f1) / ufixed(b2, f2) -> fixed(b1 + b2 + 1, b2 - f2 + f1)\n",
    "fixed(b1, f1) / float -> float\n",
    "````\n",
    "#### UFixed x (Int, UInt, Fixed, UFixed, Float)\n",
    "```\n",
    "ufixed(b1, f1) / int(b2) -> fixed(b1 + b2 + 1, b2 + f1)\n",
    "ufixed(b1, f1) / uint(b2) -> ufixed(b1 + b2, b2 + f1)\n",
    "ufixed(b1, f1) / fixed(b2, f2) -> fixed(b1 + b2, b2 - f2 + f1)\n",
    "ufixed(b1, f1) / ufixed(b2, f2) -> ufixed(b1 + b2, b2 - f2 + f1)\n",
    "ufixed(b1, f1) / float -> float\n",
    "```\n",
    "#### Float x (Int, UInt, Fixed, UFixed, Float)\n",
    "```\n",
    "float / int(b2) -> float\n",
    "float / uint(b2) -> float\n",
    "float / fixed(b2, f2) -> float\n",
    "float / ufixed(b2, f2) -> float\n",
    "float / float -> float\n",
    "```"
   ]
  },
  {
   "cell_type": "markdown",
   "metadata": {},
   "source": [
    "### Mod"
   ]
  },
  {
   "cell_type": "code",
   "execution_count": 32,
   "metadata": {},
   "outputs": [
    {
     "name": "stdout",
     "output_type": "stream",
     "text": [
      "// attr [_top] storage_scope = \"global\"\n",
      "allocate _top[int32 * 1]\n",
      "produce _top {\n",
      "  // attr [0] extern_scope = 0\n",
      "  // attr [int_fixed] storage_scope = \"global\"\n",
      "  allocate int_fixed[int32 * 1]\n",
      "  produce int_fixed {\n",
      "    // attr [0] extern_scope = 0\n",
      "    for \"stage_name\"=\"int_fixed\" (x, 0, 1) {\n",
      "      int_fixed[x] = int32((fixed67_12(D[x]) % fixed67_12(D_wider[x])))\n",
      "    }\n",
      "  }\n",
      "}\n",
      "\n"
     ]
    }
   ],
   "source": [
    "import heterocl as hcl\n",
    "\n",
    "def mod(A, A_wider, B, C, D, D_wider, E, E_wider):\n",
    "    hcl.compute((1,), lambda x : D[x] % D_wider[x], name=\"int_fixed\")\n",
    "\n",
    "A = hcl.placeholder((1,), \"A\", dtype=hcl.Int(3))\n",
    "A_wider = hcl.placeholder((1,), \"A_wider\", dtype=hcl.Int(38))\n",
    "B = hcl.placeholder((1,), \"B\", dtype=hcl.UInt(31))\n",
    "C = hcl.placeholder((1,), \"C\", dtype=hcl.Float(32))\n",
    "D = hcl.placeholder((1,), \"D\", dtype=hcl.Fixed(31, 12))\n",
    "D_wider = hcl.placeholder((1,), \"D_wider\", dtype=hcl.Fixed(63, 8))\n",
    "E = hcl.placeholder((1,), \"E\", dtype=hcl.UFixed(31, 9))\n",
    "E_wider = hcl.placeholder((1,), \"E_wider\", dtype=hcl.UFixed(63, 8))\n",
    "s = hcl.create_schedule([A, A_wider, B, C, D, D_wider, E, E_wider], mod)\n",
    "print(hcl.lower(s))"
   ]
  },
  {
   "cell_type": "markdown",
   "metadata": {},
   "source": [
    "Mod is not commutative but its typing rules are\n",
    "#### Int x (Int, UInt, Fixed, UFixed, Float)\n",
    "```\n",
    "int(b1) % int(b2) -> int(max(b1, b2)) \n",
    "int(b1) % uint(b2) -> int(max(b1, b2+1))\n",
    "int(b1) % fixed(b2, f2) -> fixed(max(b1, b2-f2) + f2, f2)\n",
    "int(b1) % ufixed(b2, f2) -> fixed(max(b1, b2-f2+1) + f2, f2)\n",
    "int(b1) % float -> float\n",
    "```\n",
    "#### UInt x (Int, UInt, Fixed, UFixed, Float)\n",
    "```\n",
    "uint(b1) % int(b2) -> int(max(b1+1, b2))\n",
    "uint(b1) % uint(b2) -> uint(max(b1, b2)) \n",
    "uint(b1) % fixed(b2, f2) -> fixed(max(b1+1, b2-f2) + f2, f2)\n",
    "uint(b1) % ufixed(b2, f2) -> ufixed(max(b1, b2-f2) + f2, f2)\n",
    "uint(b1) % float -> float\n",
    "```\n",
    "#### Fixed x (Int, UInt, Fixed, UFixed, Float)\n",
    "```\n",
    "fixed(b1, f1) % int(b2) -> fixed(max(b1-f1, b2))\n",
    "fixed(b1, f1) % uint(b2) -> fixed(max(b1-f1, b2+1) + f1, f1)\n",
    "fixed(b1, f1) % fixed(b2, f2) -> fixed(max(b1-f1, b2-f2) + max(f1, f2), max(f1, f2))\n",
    "fixed(b1, f1) % ufixed(b2, f2) -> fixed(max(b1-f1, b2-f2+1))\n",
    "fixed(b1, f1) % float -> float\n",
    "````\n",
    "#### UFixed x (Int, UInt, Fixed, UFixed, Float)\n",
    "```\n",
    "ufixed(b1, f1) % int(b2) -> fixed(max(b1-f1+1, b2) + f1, f1)\n",
    "ufixed(b1, f1) % uint(b2) -> ufixed(max(b1-f1, b2) + f1, f1)\n",
    "ufixed(b1, f1) % fixed(b2, f2) -> fixed(max(b1-f1+1, b2-f2) + max(f1, f2), max(f1, f2))\n",
    "ufixed(b1, f1) % ufixed(b2, f2) -> ufixed(max(b1-f1, b2-f2) + max(f1, f2), max(f1, f2)) \n",
    "ufixed(b1, f1) % float -> float\n",
    "```\n",
    "#### Float x (Int, UInt, Fixed, UFixed, Float)\n",
    "```\n",
    "float % int(b2) -> float\n",
    "float % uint(b2) -> float\n",
    "float % fixed(b2, f2) -> float\n",
    "float % ufixed(b2, f2) -> float\n",
    "float % float -> float\n",
    "```"
   ]
  },
  {
   "cell_type": "markdown",
   "metadata": {},
   "source": [
    "### Shift\n",
    "Shift can only be applied on integers, and the shift amount can only be positive integer.\n",
    "(Int, UInt) x (Int, UInt), not commutative."
   ]
  },
  {
   "cell_type": "code",
   "execution_count": 2,
   "metadata": {},
   "outputs": [
    {
     "name": "stdout",
     "output_type": "stream",
     "text": [
      "Int(32)\n",
      "module {\n",
      "  func.func @top(%arg0: memref<1xi32>, %arg1: memref<1xi32>) attributes {itypes = \"ss\", otypes = \"\"} {\n",
      "    %c0 = arith.constant 0 : index\n",
      "    %0 = memref.alloc() {name = \"int_int\"} : memref<1xi32>\n",
      "    %1 = affine.load %arg0[%c0] {from = \"A\"} : memref<1xi32>\n",
      "    %2 = affine.load %arg1[%c0] {from = \"B\"} : memref<1xi32>\n",
      "    %3 = arith.shli %1, %2 : i32\n",
      "    %c32_i32 = arith.constant 32 : i32\n",
      "    %4 = arith.cmpi eq, %3, %c32_i32 : i32\n",
      "    %c0_i32 = arith.constant 0 : i32\n",
      "    %5 = arith.select %4, %c0_i32, %3 : i32\n",
      "    affine.store %5, %0[%c0] {to = \"int_int\"} : memref<1xi32>\n",
      "    %6 = memref.alloc() {name = \"int_int_3\"} : memref<1xi32>\n",
      "    %7 = affine.load %arg0[%c0] {from = \"A\"} : memref<1xi32>\n",
      "    %8 = affine.load %arg1[%c0] {from = \"B\"} : memref<1xi32>\n",
      "    %9 = arith.shrsi %7, %8 : i32\n",
      "    affine.store %9, %6[%c0] {to = \"int_int_3\"} : memref<1xi32>\n",
      "    return\n",
      "  }\n",
      "}\n",
      "\n"
     ]
    }
   ],
   "source": [
    "import heterocl as hcl\n",
    "\n",
    "def shift(a, b):\n",
    "    print((a[0] << b[0]).dtype)\n",
    "    hcl.compute((1,), lambda x : a[x] << b[x], name=\"int_int\")\n",
    "    hcl.compute((1,), lambda x : a[x] >> b[x], name=\"int_int\")\n",
    "\n",
    "A = hcl.placeholder((1,), \"A\", dtype=hcl.Int(32))\n",
    "B = hcl.placeholder((1,), \"B\", dtype=hcl.Int(32))\n",
    "s = hcl.create_schedule([A, B], shift)\n",
    "print(hcl.lower(s))"
   ]
  },
  {
   "cell_type": "markdown",
   "metadata": {},
   "source": [
    "HalideIR doesn't show the casted type. So I'm making this up.\n",
    "Should left shift be lossless?\n",
    "\n",
    "#### Int x (Int, UInt)\n",
    "```\n",
    "int(b1) >> int(b2) -> int(b1)\n",
    "int(b1) << int(b2) -> int(b1)\n",
    "```\n",
    "#### UInt x (Int, UInt)\n",
    "```\n",
    "```"
   ]
  },
  {
   "cell_type": "markdown",
   "metadata": {},
   "source": [
    "### Reduce"
   ]
  },
  {
   "cell_type": "markdown",
   "metadata": {},
   "source": []
  },
  {
   "cell_type": "code",
   "execution_count": null,
   "metadata": {},
   "outputs": [],
   "source": []
  }
 ],
 "metadata": {
  "kernelspec": {
   "display_name": "Python 3.8.12 ('heterocl')",
   "language": "python",
   "name": "python3"
  },
  "language_info": {
   "codemirror_mode": {
    "name": "ipython",
    "version": 3
   },
   "file_extension": ".py",
   "mimetype": "text/x-python",
   "name": "python",
   "nbconvert_exporter": "python",
   "pygments_lexer": "ipython3",
   "version": "3.8.12"
  },
  "orig_nbformat": 4,
  "vscode": {
   "interpreter": {
    "hash": "090cc5fe040ee472da6d1bf8d1e1e36eb6249f82d4bff81d23235c117f9e1390"
   }
  }
 },
 "nbformat": 4,
 "nbformat_minor": 2
}
